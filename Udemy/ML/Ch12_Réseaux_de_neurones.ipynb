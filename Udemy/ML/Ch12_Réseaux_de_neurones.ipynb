{
 "cells": [
  {
   "cell_type": "markdown",
   "metadata": {},
   "source": [
    "Ch 12:\n",
    "Les réseaux de neurones artificiels\n",
    "\n",
    "62: Introduction"
   ]
  },
  {
   "cell_type": "markdown",
   "metadata": {},
   "source": [
    "63: Le perceptron"
   ]
  },
  {
   "cell_type": "markdown",
   "metadata": {},
   "source": [
    "Le perceptron emploi la fonction seuil:\n",
    "\n",
    "sortie = 1 si x > 0\n",
    "    ou \n",
    "sortie = 0 sinon\n",
    "\n",
    "La partie avant d'un perceptron est un modèle de régression linéaire\n",
    "dont y va être entré dans la fonction seuil"
   ]
  },
  {
   "cell_type": "markdown",
   "metadata": {},
   "source": [
    "64: Fonctions d'activation\n",
    "\n",
    "\n",
    "les réseaux de neurones ont pour point commun d'avoir une fonction de régression linéaire en entrée d'une fonction d'activation, qui sera choisie en fonction du problème donné.\n",
    "\n",
    "\n",
    "les fonctions d'activation:\n",
    "\n",
    "Si la fonction d'activation est la fonction seuil alors le réseau de neurones est un perceptron\n",
    "\n",
    "\n",
    "Si la fonction d'activation est la fonction logistique alors le réseau de neurones emploi un modèle de régression logistique\n",
    "\n",
    "La fonction relu elle donne z = 0 pour y < 0 et z = y pour y >= 0\n",
    "\n",
    "la tanh (tangente hyperbolique)\n",
    "\n",
    "etc..\n",
    "\n",
    "65: Architecture des réseaux de neurone\n",
    "\n",
    "\n",
    "66: Modèle mathématique\n",
    "\n",
    "\n",
    "\n",
    "\n"
   ]
  },
  {
   "cell_type": "code",
   "execution_count": null,
   "metadata": {},
   "outputs": [],
   "source": []
  },
  {
   "cell_type": "code",
   "execution_count": null,
   "metadata": {},
   "outputs": [],
   "source": []
  },
  {
   "cell_type": "code",
   "execution_count": null,
   "metadata": {},
   "outputs": [],
   "source": []
  }
 ],
 "metadata": {
  "language_info": {
   "name": "python"
  }
 },
 "nbformat": 4,
 "nbformat_minor": 2
}
